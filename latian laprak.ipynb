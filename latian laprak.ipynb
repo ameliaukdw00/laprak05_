{
 "cells": [
  {
   "cell_type": "code",
   "execution_count": 1,
   "metadata": {},
   "outputs": [
    {
     "name": "stdout",
     "output_type": "stream",
     "text": [
      "6 x 5 = 30\n",
      "7 x 10 = 70\n"
     ]
    }
   ],
   "source": [
    "def perkalian(a, b):\n",
    "   hasil = 0\n",
    "   for i in range(b):\n",
    "       hasil += a\n",
    "   return hasil\n",
    "\n",
    "print(\"6 x 5 =\", perkalian(6, 5))\n",
    "print(\"7 x 10 =\", perkalian(7, 10))"
   ]
  },
  {
   "cell_type": "code",
   "execution_count": 4,
   "metadata": {},
   "outputs": [
    {
     "name": "stdout",
     "output_type": "stream",
     "text": [
      "Deret bilangan ganjil dari 10 sampai 30 adalah: [11, 13, 15, 17, 19, 21, 23, 25, 27, 29]\n",
      "Deret bilangan ganjil dari 97 sampai 82 adalah: [83, 85, 87, 89, 91, 93, 95, 97]\n"
     ]
    }
   ],
   "source": [
    "def ganjil(bawah, atas):\n",
    "    if bawah > atas:\n",
    "        bawah, atas = atas, bawah\n",
    "    \n",
    "    deret = [i for i in range(bawah, atas + 1) if i % 2 == 1]\n",
    "    return deret\n",
    "\n",
    "# Contoh penggunaan\n",
    "print(\"Deret bilangan ganjil dari 10 sampai 30 adalah:\", ganjil(10, 30))\n",
    "print(\"Deret bilangan ganjil dari 97 sampai 82 adalah:\", ganjil (97, 82))\n"
   ]
  },
  {
   "cell_type": "code",
   "execution_count": 5,
   "metadata": {},
   "outputs": [
    {
     "name": "stdout",
     "output_type": "stream",
     "text": [
      "nilai mk 1: A\n",
      "nilai mk 2: B\n",
      "nilai mk 3: C\n",
      "nilai mk 4: D\n",
      "nilai mk 5: A\n",
      "nilai mk 6: B\n",
      "Indeks Prestasi Semester (IPS) anda adalah: 2.83\n"
     ]
    }
   ],
   "source": [
    "# Input jumlah mata kuliah\n",
    "jumlah_mata_kuliah = int(input(\"Masukkan jumlah mata kuliah: \"))\n",
    "\n",
    "# Inisialisasi variabel untuk menghitung IPS\n",
    "ips = 0\n",
    "\n",
    "# Perulangan untuk menginput nilai setiap mata kuliah\n",
    "for i in range(jumlah_mata_kuliah):\n",
    "    nilai = input(f\"Masukkan nilai mata kuliah ke-{i+1} (A/B/C/D): \").upper()\n",
    "    print(f\"nilai mk {i + 1}:\", nilai)\n",
    "    # Percabangan untuk menghitung bobot nilai\n",
    "    if nilai == \"A\":\n",
    "        bobot = 4\n",
    "    elif nilai == \"B\":\n",
    "        bobot = 3\n",
    "    elif nilai == \"C\":\n",
    "        bobot = 2\n",
    "    elif nilai == \"D\":\n",
    "        bobot = 1\n",
    "    else:\n",
    "        print(\"Nilai yang anda masukkan salah!\")\n",
    "        continue\n",
    "\n",
    "    # Input sks mata kuliah (diasumsikan selalu 3)\n",
    "    sks = 3\n",
    "\n",
    "    # Hitung IPS\n",
    "    ips += bobot * sks\n",
    "\n",
    "# Hitung rata-rata IPS\n",
    "ips /= jumlah_mata_kuliah * 3\n",
    "\n",
    "# Output hasil IPS\n",
    "print(f\"Indeks Prestasi Semester (IPS) anda adalah: {ips:.2f}\")\n"
   ]
  }
 ],
 "metadata": {
  "kernelspec": {
   "display_name": "Python 3",
   "language": "python",
   "name": "python3"
  },
  "language_info": {
   "codemirror_mode": {
    "name": "ipython",
    "version": 3
   },
   "file_extension": ".py",
   "mimetype": "text/x-python",
   "name": "python",
   "nbconvert_exporter": "python",
   "pygments_lexer": "ipython3",
   "version": "3.12.2"
  }
 },
 "nbformat": 4,
 "nbformat_minor": 2
}
